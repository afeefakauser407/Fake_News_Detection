{
 "cells": [
  {
   "cell_type": "code",
   "execution_count": 1,
   "id": "add2dc63",
   "metadata": {},
   "outputs": [],
   "source": [
    "from sklearn.feature_extraction.text import TfidfVectorizer\n",
    "from sklearn.model_selection import train_test_split\n",
    "from sklearn.linear_model import PassiveAggressiveClassifier\n",
    "from sklearn.metrics import accuracy_score, confusion_matrix, classification_report\n",
    "import itertools\n",
    "import seaborn as sns\n",
    "import matplotlib.pyplot as plt"
   ]
  },
  {
   "cell_type": "code",
   "execution_count": 2,
   "id": "2dc1e6e5",
   "metadata": {},
   "outputs": [
    {
     "ename": "NameError",
     "evalue": "name 'pd' is not defined",
     "output_type": "error",
     "traceback": [
      "\u001b[1;31m---------------------------------------------------------------------------\u001b[0m",
      "\u001b[1;31mNameError\u001b[0m                                 Traceback (most recent call last)",
      "Cell \u001b[1;32mIn[2], line 2\u001b[0m\n\u001b[0;32m      1\u001b[0m \u001b[38;5;66;03m# Read the data\u001b[39;00m\n\u001b[1;32m----> 2\u001b[0m data \u001b[38;5;241m=\u001b[39m pd\u001b[38;5;241m.\u001b[39mread_csv(\u001b[38;5;124m'\u001b[39m\u001b[38;5;124mnews.csv\u001b[39m\u001b[38;5;124m'\u001b[39m)\n",
      "\u001b[1;31mNameError\u001b[0m: name 'pd' is not defined"
     ]
    }
   ],
   "source": [
    "# Read the data\n",
    "data = pd.read_csv('news.csv')"
   ]
  },
  {
   "cell_type": "code",
   "execution_count": null,
   "id": "33f9d51e",
   "metadata": {},
   "outputs": [],
   "source": [
    "data.head()"
   ]
  },
  {
   "cell_type": "code",
   "execution_count": null,
   "id": "ef48dd57",
   "metadata": {},
   "outputs": [],
   "source": [
    "data.shape"
   ]
  },
  {
   "cell_type": "code",
   "execution_count": null,
   "id": "b5c43608",
   "metadata": {},
   "outputs": [],
   "source": [
    "data.info()"
   ]
  },
  {
   "cell_type": "code",
   "execution_count": null,
   "id": "fcbad9fe",
   "metadata": {},
   "outputs": [],
   "source": [
    "data.describe()"
   ]
  },
  {
   "cell_type": "code",
   "execution_count": null,
   "id": "b41ee67a",
   "metadata": {},
   "outputs": [],
   "source": [
    "# Count the number of read and fake news in the dataset \n",
    "data['label'].value_counts()"
   ]
  },
  {
   "cell_type": "code",
   "execution_count": null,
   "id": "2cc98ac8",
   "metadata": {},
   "outputs": [],
   "source": [
    "# Plot the number of read and fake news in the dataset\n",
    "data['label'].value_counts().plot(kind='bar')\n",
    "plt.show()\n"
   ]
  },
  {
   "cell_type": "markdown",
   "id": "7aceccc6",
   "metadata": {},
   "source": [
    "# Build the model\n",
    "\n"
   ]
  },
  {
   "cell_type": "code",
   "execution_count": null,
   "id": "ec31e14d",
   "metadata": {},
   "outputs": [],
   "source": [
    "labels= data.label\n",
    "labels.head(10)"
   ]
  },
  {
   "cell_type": "code",
   "execution_count": null,
   "id": "d395352e",
   "metadata": {},
   "outputs": [],
   "source": [
    "#First, we split the dataset into train & test samples:\n",
    "x_train, x_test, y_train, y_test= train_test_split(data[\"text\"], labels, test_size= 0.4, random_state= 7)"
   ]
  },
  {
   "cell_type": "code",
   "execution_count": null,
   "id": "7f7c7ed1",
   "metadata": {},
   "outputs": [],
   "source": [
    "#Then we’ll initialize TfidfVectorizer with English stop words\n",
    "vectorizer=TfidfVectorizer(stop_words='english', max_df=0.7)\n",
    "tfidf_train=vectorizer.fit_transform(x_train) \n",
    "tfidf_test=vectorizer.transform(x_test)"
   ]
  },
  {
   "cell_type": "code",
   "execution_count": null,
   "id": "3e7f43e1",
   "metadata": {},
   "outputs": [],
   "source": [
    "# PassiveAggressiveClassifier\n",
    "passive=PassiveAggressiveClassifier(max_iter=50)\n",
    "passive.fit(tfidf_train,y_train)\n",
    "\n",
    "y_pred=passive.predict(tfidf_test)"
   ]
  },
  {
   "cell_type": "markdown",
   "id": "048c448a",
   "metadata": {},
   "source": [
    "# 4- Evaluate the model's accuracy"
   ]
  },
  {
   "cell_type": "code",
   "execution_count": null,
   "id": "b072848b",
   "metadata": {},
   "outputs": [],
   "source": [
    "#Create a confusion matrix\n",
    "matrix= confusion_matrix(y_test,y_pred, labels=['FAKE','REAL'])\n",
    "matrix"
   ]
  },
  {
   "cell_type": "code",
   "execution_count": null,
   "id": "24b87f03",
   "metadata": {},
   "outputs": [],
   "source": [
    "#Visualize the confusion matrix\n",
    "sns.heatmap(matrix, annot=True)\n",
    "plt.show()"
   ]
  },
  {
   "cell_type": "code",
   "execution_count": null,
   "id": "b6f595a5",
   "metadata": {},
   "outputs": [],
   "source": [
    "#Calculate the model's accuracy\n",
    "Accuracy=accuracy_score(y_test,y_pred)\n",
    "Accuracy*100"
   ]
  },
  {
   "cell_type": "markdown",
   "id": "e24f9bda",
   "metadata": {},
   "source": [
    "# The model's accuracy is 92%"
   ]
  },
  {
   "cell_type": "code",
   "execution_count": null,
   "id": "64a37855",
   "metadata": {},
   "outputs": [],
   "source": [
    "Report= classification_report(y_test, y_pred)\n",
    "print(Report)"
   ]
  },
  {
   "cell_type": "code",
   "execution_count": null,
   "id": "9f16495a",
   "metadata": {},
   "outputs": [],
   "source": []
  },
  {
   "cell_type": "code",
   "execution_count": null,
   "id": "ea671dac",
   "metadata": {},
   "outputs": [],
   "source": []
  }
 ],
 "metadata": {
  "kernelspec": {
   "display_name": "Python 3 (ipykernel)",
   "language": "python",
   "name": "python3"
  },
  "language_info": {
   "codemirror_mode": {
    "name": "ipython",
    "version": 3
   },
   "file_extension": ".py",
   "mimetype": "text/x-python",
   "name": "python",
   "nbconvert_exporter": "python",
   "pygments_lexer": "ipython3",
   "version": "3.11.5"
  }
 },
 "nbformat": 4,
 "nbformat_minor": 5
}
